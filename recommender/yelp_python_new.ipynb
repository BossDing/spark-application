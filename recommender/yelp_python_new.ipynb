{
 "cells": [
  {
   "cell_type": "markdown",
   "metadata": {},
   "source": [
    "## 1.Add libraries and Initial ES"
   ]
  },
  {
   "cell_type": "code",
   "execution_count": 14,
   "metadata": {
    "collapsed": false
   },
   "outputs": [],
   "source": [
    "from pyspark.ml.feature import StringIndexer, VectorAssembler\n",
    "from pyspark.ml import Pipeline\n",
    "from pyspark.ml.tuning import CrossValidator, ParamGridBuilder\n",
    "from pyspark.ml.evaluation import BinaryClassificationEvaluator\n",
    "from pyspark.ml.recommendation import ALS\n",
    "from pyspark.sql.functions import col\n",
    "from pyspark.sql.types import *\n",
    "from elasticsearch import Elasticsearch\n",
    "es = Elasticsearch()"
   ]
  },
  {
   "cell_type": "markdown",
   "metadata": {},
   "source": [
    "Initial index and doc type name"
   ]
  },
  {
   "cell_type": "code",
   "execution_count": 2,
   "metadata": {
    "collapsed": true
   },
   "outputs": [],
   "source": [
    "esIndex = \"yelpindex\"\n",
    "esDocType = \"yelp\""
   ]
  },
  {
   "cell_type": "markdown",
   "metadata": {},
   "source": [
    "## 2. Create data schema in ES. \n",
    "This step only need execute one time for a data set because it is used to initial data schema in ES."
   ]
  },
  {
   "cell_type": "code",
   "execution_count": 3,
   "metadata": {
    "collapsed": false,
    "scrolled": true
   },
   "outputs": [
    {
     "name": "stdout",
     "output_type": "stream",
     "text": [
      "ES index(yelpindex) create success\n"
     ]
    }
   ],
   "source": [
    "def initIndex():   \n",
    "    create_index = {\n",
    "        \"settings\": {\n",
    "            \"analysis\": {\n",
    "                \"analyzer\": {\n",
    "                    \"payload_analyzer\": {\n",
    "                        \"type\": \"custom\",\n",
    "                        \"tokenizer\":\"whitespace\",\n",
    "                        \"filter\":\"delimited_payload_filter\"\n",
    "                    }\n",
    "                }\n",
    "            }\n",
    "        },\n",
    "        \"mappings\": {\n",
    "            \"yelp\": {\n",
    "                \"properties\": {\n",
    "                    \"text\": {\n",
    "                        \"type\": \"text\"\n",
    "                    },\n",
    "                     \"userId\": {\n",
    "                        \"type\": \"integer\",\n",
    "                        \"index\": \"not_analyzed\"\n",
    "                    },\n",
    "                    \"itemId\": {\n",
    "                        \"type\": \"integer\",\n",
    "                        \"index\": \"not_analyzed\"\n",
    "                    },\n",
    "                    \"stars\": {\n",
    "                        \"type\": \"double\"\n",
    "                    },\n",
    "                    \"is_open\": {\n",
    "                        \"type\": \"double\"\n",
    "                    },\n",
    "                    \"@model\": {\n",
    "                        \"properties\": {\n",
    "                            \"factor\": {\n",
    "                                \"type\": \"text\",\n",
    "                                \"term_vector\": \"with_positions_offsets_payloads\",\n",
    "                                \"analyzer\" : \"payload_analyzer\"\n",
    "                            },\n",
    "                            \"version\": {\n",
    "                                \"type\": \"keyword\"\n",
    "                            }\n",
    "                        }\n",
    "                    }\n",
    "                }\n",
    "            }\n",
    "        }\n",
    "    }\n",
    "    # create index with the settings & mappings above\n",
    "    es.indices.create(index=esIndex, body=create_index)\n",
    "    print \"ES index(%s) create success\" % esIndex\n",
    "initIndex()"
   ]
  },
  {
   "cell_type": "markdown",
   "metadata": {},
   "source": [
    "## 3. Prepare data and indexed in ES server.\n",
    "### 3.1 Load original data from files\n",
    "\n",
    "This step only used for initial dataset in ES, it only need execute one time."
   ]
  },
  {
   "cell_type": "code",
   "execution_count": 4,
   "metadata": {
    "collapsed": false,
    "scrolled": false
   },
   "outputs": [
    {
     "name": "stdout",
     "output_type": "stream",
     "text": [
      "+--------------------+-----+--------------------+--------------------+\n",
      "|         business_id|stars|             user_id|                text|\n",
      "+--------------------+-----+--------------------+--------------------+\n",
      "|2aFiy99vNLklCx3T_...|    5|KpkOkG6RIf4Ra25Lh...|If you enjoy serv...|\n",
      "|2aFiy99vNLklCx3T_...|    5|bQ7fQq1otn9hKX-gX...|After being on th...|\n",
      "|2aFiy99vNLklCx3T_...|    5|r1NUhdNmL6yU9Bn-Y...|Great service! Co...|\n",
      "|2LfIuF3_sX6uwe-IR...|    5|aW3ix1KNZAvoM8q-W...|Highly recommende...|\n",
      "|2LfIuF3_sX6uwe-IR...|    4|YOo-Cip8HqvKp_p9n...|I walked in here ...|\n",
      "+--------------------+-----+--------------------+--------------------+\n",
      "only showing top 5 rows\n",
      "\n",
      "+--------------------+-------------------+--------------------+---------+--------------------+-------+\n",
      "|         business_id|               name|             address|     city|          categories|is_open|\n",
      "+--------------------+-------------------+--------------------+---------+--------------------+-------+\n",
      "|0DI8Dt2PJp07XkVvI...|  Innovative Vapors|227 E Baseline Rd...|    Tempe|[Tobacco Shops, N...|      0|\n",
      "|LTlCaCGZE14GuaUXU...|      Cut and Taste|495 S Grand Centr...|Las Vegas|[Caterers, Grocer...|      1|\n",
      "|EDqCEAGXVGCH4FJXg...|        Pizza Pizza|  979 Bloor Street W|  Toronto|[Restaurants, Piz...|      1|\n",
      "|cnGIivYRLxpF7tBVR...|Plush Salon and Spa|7014 Steubenville...|  Oakdale|[Hair Removal, Be...|      1|\n",
      "|cdk-qqJ71q6P7TJTw...|        Comfort Inn|   321 Jarvis Street|  Toronto|[Hotels & Travel,...|      1|\n",
      "+--------------------+-------------------+--------------------+---------+--------------------+-------+\n",
      "only showing top 5 rows\n",
      "\n"
     ]
    }
   ],
   "source": [
    "yelp_review = spark.read.json(\"/root/yelp/yelp_academic_dataset_review.json\")\\\n",
    "    .select(\"business_id\",\"stars\",\"user_id\",\"text\")\n",
    "yelp_business = spark.read.json(\"/root/yelp/yelp_academic_dataset_business.json\")\\\n",
    "    .select(\"business_id\",\"name\",\"address\",\"city\",\"categories\",\"is_open\") \n",
    "yelp_review.show(5)\n",
    "yelp_business.show(5)"
   ]
  },
  {
   "cell_type": "markdown",
   "metadata": {},
   "source": [
    "### 3.2 Join the review and business data so that we can get all the rates for each business\n",
    "\n",
    "We use the business which is open in Las Vegas. The dataset include so many data and the python can not deal such dataset once. So we only use business in Las Vegas to reduce the effort of data prepare."
   ]
  },
  {
   "cell_type": "code",
   "execution_count": 5,
   "metadata": {
    "collapsed": false
   },
   "outputs": [
    {
     "name": "stdout",
     "output_type": "stream",
     "text": [
      "+--------------------+-----+--------------------+--------------------+--------------------+--------------------+---------+--------------------+-------+\n",
      "|         business_id|stars|             user_id|                text|                name|             address|     city|          categories|is_open|\n",
      "+--------------------+-----+--------------------+--------------------+--------------------+--------------------+---------+--------------------+-------+\n",
      "|--9e1ONYQuAa-CB_R...|    1|0XVzm4kVIAaH4eQAx...|I mainly went for...|Delmonico Steakhouse|3355 Las Vegas Bl...|Las Vegas|[Steakhouses, Res...|      1|\n",
      "|--9e1ONYQuAa-CB_R...|    5|5aFBj0emFzoXsUcKb...|\"WOW!!!\" that's w...|Delmonico Steakhouse|3355 Las Vegas Bl...|Las Vegas|[Steakhouses, Res...|      1|\n",
      "|--9e1ONYQuAa-CB_R...|    1|n0y7p7B1NMia_3lpk...|I visited this pl...|Delmonico Steakhouse|3355 Las Vegas Bl...|Las Vegas|[Steakhouses, Res...|      1|\n",
      "|--9e1ONYQuAa-CB_R...|    4|aP4BkNgP4wzQ5woQM...|Delmonico is a te...|Delmonico Steakhouse|3355 Las Vegas Bl...|Las Vegas|[Steakhouses, Res...|      1|\n",
      "|--9e1ONYQuAa-CB_R...|    4|2aeNFntqY2QDZLADN...|Nice atmosphere a...|Delmonico Steakhouse|3355 Las Vegas Bl...|Las Vegas|[Steakhouses, Res...|      1|\n",
      "+--------------------+-----+--------------------+--------------------+--------------------+--------------------+---------+--------------------+-------+\n",
      "only showing top 5 rows\n",
      "\n"
     ]
    }
   ],
   "source": [
    "yelp_data = yelp_review.join(yelp_business, yelp_review.business_id == yelp_business.business_id)\\\n",
    "    .select(yelp_review.business_id, yelp_review.stars, yelp_review.user_id, yelp_review.text,\\\n",
    "    yelp_business.name,yelp_business.address,yelp_business.city,yelp_business.categories,yelp_business.is_open)\\\n",
    "    .filter(yelp_business.city == 'Las Vegas').filter( yelp_business.is_open == 1)\n",
    "num_yelp = yelp_data.count()\n",
    "yelp_data.show(5)"
   ]
  },
  {
   "cell_type": "code",
   "execution_count": 6,
   "metadata": {
    "collapsed": false,
    "scrolled": true
   },
   "outputs": [
    {
     "name": "stdout",
     "output_type": "stream",
     "text": [
      "735029\n",
      "144072\n"
     ]
    }
   ],
   "source": [
    "print yelp_data.count()\n",
    "print yelp_business.count()"
   ]
  },
  {
   "cell_type": "markdown",
   "metadata": {},
   "source": [
    "### 3.3 Split dataset to training data and bacup data"
   ]
  },
  {
   "cell_type": "code",
   "execution_count": 7,
   "metadata": {
    "collapsed": false
   },
   "outputs": [
    {
     "name": "stdout",
     "output_type": "stream",
     "text": [
      "The number of training data is  73405\n"
     ]
    }
   ],
   "source": [
    "yelp_test, yelp_backup = yelp_data.randomSplit([0.1,0.9])\n",
    "num_test=yelp_test.count()\n",
    "print \"The number of training data is \",num_test"
   ]
  },
  {
   "cell_type": "markdown",
   "metadata": {},
   "source": [
    "### 3.4 Create integer id for business and user\n",
    "\n",
    "The original business id and user id is a string but ES need integer business id and user id to improve performance. So we use pipeline transformer to create a seqence for business id and user id."
   ]
  },
  {
   "cell_type": "code",
   "execution_count": 8,
   "metadata": {
    "collapsed": false
   },
   "outputs": [
    {
     "name": "stdout",
     "output_type": "stream",
     "text": [
      "+--------------------+--------------------+--------------------+---------+--------------------+-------+------+------+-----+\n",
      "|                text|                name|             address|     city|          categories|is_open|userId|itemId|stars|\n",
      "+--------------------+--------------------+--------------------+---------+--------------------+-------+------+------+-----+\n",
      "|Very greasy, lack...|Delmonico Steakhouse|3355 Las Vegas Bl...|Las Vegas|[Steakhouses, Res...|      1| 53438|    75|  1.0|\n",
      "|Ohhh where to bei...|Delmonico Steakhouse|3355 Las Vegas Bl...|Las Vegas|[Steakhouses, Res...|      1| 20251|    75|  1.0|\n",
      "|very disappointed...|Delmonico Steakhouse|3355 Las Vegas Bl...|Las Vegas|[Steakhouses, Res...|      1| 53568|    75|  2.0|\n",
      "|Review is for lun...|Delmonico Steakhouse|3355 Las Vegas Bl...|Las Vegas|[Steakhouses, Res...|      1|  7626|    75|  2.0|\n",
      "|Lobster bisque, s...|Delmonico Steakhouse|3355 Las Vegas Bl...|Las Vegas|[Steakhouses, Res...|      1| 25757|    75|  2.0|\n",
      "+--------------------+--------------------+--------------------+---------+--------------------+-------+------+------+-----+\n",
      "only showing top 5 rows\n",
      "\n",
      "root\n",
      " |-- text: string (nullable = true)\n",
      " |-- name: string (nullable = true)\n",
      " |-- address: string (nullable = true)\n",
      " |-- city: string (nullable = true)\n",
      " |-- categories: array (nullable = true)\n",
      " |    |-- element: string (containsNull = true)\n",
      " |-- is_open: long (nullable = true)\n",
      " |-- userId: integer (nullable = true)\n",
      " |-- itemId: integer (nullable = true)\n",
      " |-- stars: double (nullable = true)\n",
      "\n"
     ]
    }
   ],
   "source": [
    "businessIndexer = StringIndexer(inputCol=\"business_id\",outputCol=\"itemId\")\n",
    "userIndexer = StringIndexer(inputCol=\"user_id\",outputCol=\"userId\")\n",
    "pipeline = Pipeline(stages=[businessIndexer, userIndexer])\n",
    "review_df=pipeline.fit(yelp_test).transform(yelp_test).select(\"text\",\"name\",\"address\",\"city\",\"categories\",\"is_open\",col(\"userId\").cast(IntegerType()), col(\"itemId\").cast(IntegerType()),col(\"stars\").cast(DoubleType()))\n",
    "review_df.show(5)\n",
    "review_df.printSchema()"
   ]
  },
  {
   "cell_type": "markdown",
   "metadata": {},
   "source": [
    "### 3.5 Insert and index data into ES"
   ]
  },
  {
   "cell_type": "code",
   "execution_count": 9,
   "metadata": {
    "collapsed": false,
    "scrolled": false
   },
   "outputs": [
    {
     "name": "stdout",
     "output_type": "stream",
     "text": [
      "Indexed 5000 items of 73405\n",
      "Indexed 10000 items of 73405\n",
      "Indexed 15000 items of 73405\n",
      "Indexed 20000 items of 73405\n",
      "Indexed 25000 items of 73405\n",
      "Indexed 30000 items of 73405\n",
      "Indexed 35000 items of 73405\n",
      "Indexed 40000 items of 73405\n",
      "Indexed 45000 items of 73405\n",
      "Indexed 50000 items of 73405\n",
      "Indexed 55000 items of 73405\n",
      "Indexed 60000 items of 73405\n",
      "Indexed 65000 items of 73405\n",
      "Indexed 70000 items of 73405\n"
     ]
    }
   ],
   "source": [
    "data = review_df.collect()\n",
    "i = 0\n",
    "for row in data:\n",
    "    yelp = {\n",
    "        \"itemId\": row.itemId,\n",
    "        \"id\": row.itemId,\n",
    "        \"name\": row.name,\n",
    "        \"address\": row.address,\n",
    "        \"city\":row.city,\n",
    "        \"categories\": row.categories,\n",
    "        \"userId\":row.userId,\n",
    "        \"text\": row.text,\n",
    "        \"stars\": row.stars,\n",
    "        \"is_open\": row.is_open\n",
    "    }\n",
    "    es.index(esIndex, esDocType, id=yelp['itemId'], body=yelp)\n",
    "    i += 1\n",
    "    if i % 5000 == 0: print \"Indexed %s items of %s\" % (i, num_test)\n"
   ]
  },
  {
   "cell_type": "markdown",
   "metadata": {},
   "source": [
    "## 4. Create model and save model into ES\n",
    "\n",
    "### 4.1 Load data from es used to create model"
   ]
  },
  {
   "cell_type": "code",
   "execution_count": 3,
   "metadata": {
    "collapsed": false
   },
   "outputs": [
    {
     "name": "stdout",
     "output_type": "stream",
     "text": [
      "root\n",
      " |-- @model: struct (nullable = true)\n",
      " |    |-- factor: string (nullable = true)\n",
      " |    |-- version: string (nullable = true)\n",
      " |-- address: string (nullable = true)\n",
      " |-- categories: array (nullable = true)\n",
      " |    |-- element: string (containsNull = true)\n",
      " |-- city: string (nullable = true)\n",
      " |-- id: long (nullable = true)\n",
      " |-- is_open: double (nullable = true)\n",
      " |-- itemId: integer (nullable = true)\n",
      " |-- name: string (nullable = true)\n",
      " |-- stars: double (nullable = true)\n",
      " |-- text: string (nullable = true)\n",
      " |-- userId: integer (nullable = true)\n",
      "\n",
      "+--------------------+--------------------+--------------------+---------+---+-------+------+--------------------+-----+--------------------+------+\n",
      "|              @model|             address|          categories|     city| id|is_open|itemId|                name|stars|                text|userId|\n",
      "+--------------------+--------------------+--------------------+---------+---+-------+------+--------------------+-----+--------------------+------+\n",
      "|[0|1.01619338989 ...|The LINQ Las Vega...|[American (New), ...|Las Vegas| 12|    1.0|    12|Guy Fieri's Vegas...|  5.0|Where do I even s...|   208|\n",
      "|[0|-0.03738367557...|2535 Las Vegas Bl...|[Event Planning &...|Las Vegas| 32|    1.0|    32|SLS Las Vegas Hot...|  5.0|Nice new property...|    60|\n",
      "|[0|-0.31421476602...|5255 S Decatur Bl...|[Sushi Bars, Japa...|Las Vegas| 42|    1.0|    42| Sushi House Goyemon|  5.0|When I make it ou...| 40292|\n",
      "|[0|-1.0615375042 ...|3435 South Las Ve...|[Event Planning &...|Las Vegas| 62|    1.0|    62|The LINQ Hotel & ...|  5.0|Okay can I just b...| 46155|\n",
      "|[0|0.747004151344...|The Cosmopolitan ...|[Bars, Cocktail B...|Las Vegas| 82|    1.0|    82|       STK Las Vegas|  5.0|Arrived around 8p...| 27318|\n",
      "+--------------------+--------------------+--------------------+---------+---+-------+------+--------------------+-----+--------------------+------+\n",
      "only showing top 5 rows\n",
      "\n"
     ]
    }
   ],
   "source": [
    "yelp_df = spark.read.format(\"es\").option(\"es.read.field.as.array.include\", \"categories\").load(esIndex+\"/\"+esDocType)\n",
    "yelp_df.printSchema()\n",
    "yelp_df.show(5)"
   ]
  },
  {
   "cell_type": "markdown",
   "metadata": {},
   "source": [
    "### 4.2 Train ALS model"
   ]
  },
  {
   "cell_type": "code",
   "execution_count": 4,
   "metadata": {
    "collapsed": false
   },
   "outputs": [],
   "source": [
    "als = ALS(userCol=\"userId\", itemCol=\"itemId\", ratingCol=\"stars\", regParam=0.1, rank=10, seed=42)\n",
    "model = als.fit(yelp_df)"
   ]
  },
  {
   "cell_type": "code",
   "execution_count": 5,
   "metadata": {
    "collapsed": false
   },
   "outputs": [
    {
     "name": "stdout",
     "output_type": "stream",
     "text": [
      "+---+--------------------+\n",
      "| id|            features|\n",
      "+---+--------------------+\n",
      "|  0|[0.41811794, -0.0...|\n",
      "| 10|[1.204584, 0.0556...|\n",
      "| 20|[0.7733746, 0.558...|\n",
      "| 30|[-0.51777494, -0....|\n",
      "| 40|[-1.2260402, 0.00...|\n",
      "| 50|[0.3837663, -0.48...|\n",
      "| 60|[-0.020416455, -0...|\n",
      "| 70|[-0.37953523, -0....|\n",
      "| 80|[-0.36325774, -0....|\n",
      "| 90|[0.44119626, -0.0...|\n",
      "+---+--------------------+\n",
      "only showing top 10 rows\n",
      "\n",
      "+---+--------------------+\n",
      "| id|            features|\n",
      "+---+--------------------+\n",
      "|  0|[-1.6613755, 0.56...|\n",
      "| 10|[-0.5781848, -0.2...|\n",
      "| 20|[1.1038743, 0.636...|\n",
      "| 30|[-0.24086721, 1.0...|\n",
      "| 40|[-0.82231486, -0....|\n",
      "| 50|[0.758447, 0.5330...|\n",
      "| 60|[1.1222466, -0.17...|\n",
      "| 70|[0.4667988, 0.827...|\n",
      "| 80|[-0.97184336, -1....|\n",
      "| 90|[-0.20555457, 1.3...|\n",
      "+---+--------------------+\n",
      "only showing top 10 rows\n",
      "\n"
     ]
    }
   ],
   "source": [
    "model.userFactors.show(10)\n",
    "model.itemFactors.show(10)"
   ]
  },
  {
   "cell_type": "markdown",
   "metadata": {},
   "source": [
    "### 4.3 Convert model data inorder to save it into ES."
   ]
  },
  {
   "cell_type": "code",
   "execution_count": 6,
   "metadata": {
    "collapsed": true
   },
   "outputs": [],
   "source": [
    "from pyspark.sql.types import *\n",
    "from pyspark.sql.functions import udf, lit\n",
    "def convert_vector(x):\n",
    "    '''Convert a list or numpy array to delimited token filter format'''\n",
    "    return \" \".join([\"%s|%s\" % (i, v) for i, v in enumerate(x)])\n",
    "def reverse_convert(s):\n",
    "    '''Convert a delimited token filter format string back to list format'''\n",
    "    return  [float(f.split(\"|\")[1]) for f in s.split(\" \")]\n",
    "def vector_to_struct(x, version):\n",
    "    '''Convert a vector to a SparkSQL Struct with string-format vector and version fields'''\n",
    "    return (convert_vector(x), version)\n",
    "vector_struct = udf(vector_to_struct, \\\n",
    "                    StructType([StructField(\"factor\", StringType(), True), \\\n",
    "                                StructField(\"version\", StringType(), True)]))"
   ]
  },
  {
   "cell_type": "markdown",
   "metadata": {},
   "source": [
    "Show model data formate"
   ]
  },
  {
   "cell_type": "code",
   "execution_count": 7,
   "metadata": {
    "collapsed": false
   },
   "outputs": [
    {
     "name": "stdout",
     "output_type": "stream",
     "text": [
      "[-1.6613755226135254, 0.5610125660896301, -0.9656401872634888, -0.3149564862251282, 0.5551421046257019, -1.5766654014587402, -0.15945157408714294, -0.9169647693634033, 1.0778717994689941, -0.2776658535003662]\n",
      "\n",
      "0|-1.66137552261 1|0.56101256609 2|-0.965640187263 3|-0.314956486225 4|0.555142104626 5|-1.57666540146 6|-0.159451574087 7|-0.916964769363 8|1.07787179947 9|-0.2776658535\n"
     ]
    }
   ],
   "source": [
    "# test out the vector conversion function\n",
    "test_vec = model.itemFactors.select(\"features\").first().features\n",
    "print test_vec\n",
    "print\n",
    "print convert_vector(test_vec)"
   ]
  },
  {
   "cell_type": "markdown",
   "metadata": {},
   "source": [
    "### 4.4 Save model into ES"
   ]
  },
  {
   "cell_type": "code",
   "execution_count": 15,
   "metadata": {
    "collapsed": false
   },
   "outputs": [],
   "source": [
    "ver = model.uid\n",
    "item_vectors = model.itemFactors.select(\"id\", vector_struct(\"features\", lit(ver)).alias(\"@model\"))\n",
    "\n",
    "# write data to ES, use:\n",
    "# - \"id\" as the column to map to ES yelp id\n",
    "# - \"update\" write mode for ES\n",
    "# - \"append\" write mode for Spark\n",
    "item_vectors.write.format(\"es\") \\\n",
    "    .option(\"es.mapping.id\", \"id\") \\\n",
    "    .option(\"es.write.operation\", \"update\") \\\n",
    "    .save(esIndex+\"/\"+esDocType, mode=\"append\")"
   ]
  },
  {
   "cell_type": "markdown",
   "metadata": {
    "collapsed": false
   },
   "source": [
    "Search one data to check if model save success"
   ]
  },
  {
   "cell_type": "code",
   "execution_count": 8,
   "metadata": {
    "collapsed": false,
    "scrolled": false
   },
   "outputs": [
    {
     "data": {
      "text/plain": [
       "{u'_shards': {u'failed': 0, u'successful': 5, u'total': 5},\n",
       " u'hits': {u'hits': [{u'_id': u'1570',\n",
       "    u'_index': u'yelpindex',\n",
       "    u'_score': 9.771611,\n",
       "    u'_source': {u'@model': {u'factor': u'0|-0.884719610214 1|-0.233291909099 2|2.21565961838 3|0.411309123039 4|-1.25451374054 5|-0.683289051056 6|-0.137509047985 7|-0.59401679039 8|-0.115472383797 9|0.815175294876',\n",
       "      u'version': u'ALS_4a918e586b2296bde3f1'},\n",
       "     u'address': u'8750 Charleston Blvd',\n",
       "     u'categories': [u'Eyewear & Opticians',\n",
       "      u'Shopping',\n",
       "      u'Optometrists',\n",
       "      u'Health & Medical'],\n",
       "     u'city': u'Las Vegas',\n",
       "     u'id': 1570,\n",
       "     u'is_open': 1,\n",
       "     u'itemId': 1570,\n",
       "     u'name': u'Target Optical',\n",
       "     u'stars': 5.0,\n",
       "     u'text': u\"This is my local target at Summerlin. Always good service and well organized. Lately they've hired some sketchy people. I hope they passed the background test.\",\n",
       "     u'userId': 8986},\n",
       "    u'_type': u'yelp'}],\n",
       "  u'max_score': 9.771611,\n",
       "  u'total': 30},\n",
       " u'timed_out': False,\n",
       " u'took': 46}"
      ]
     },
     "execution_count": 8,
     "metadata": {},
     "output_type": "execute_result"
    }
   ],
   "source": [
    "es.search(index=esIndex, doc_type=esDocType, q=\"Target\", size=1)"
   ]
  },
  {
   "cell_type": "markdown",
   "metadata": {},
   "source": [
    "## 5. Search similar business from ES\n",
    "\n",
    "### 5.1 Search similar business from ES using cosine"
   ]
  },
  {
   "cell_type": "code",
   "execution_count": 9,
   "metadata": {
    "collapsed": true
   },
   "outputs": [],
   "source": [
    "\n",
    "def fn_query(query_vec, q=\"*\", cosine=False):\n",
    "    return {\n",
    "    \"query\": {\n",
    "        \"function_score\": {\n",
    "            \"query\" : { \n",
    "                \"query_string\": {\n",
    "                    \"query\": q\n",
    "                }\n",
    "            },\n",
    "            \"script_score\": {\n",
    "                \"script\": {\n",
    "                        \"inline\": \"payload_vector_score\",\n",
    "                        \"lang\": \"native\",\n",
    "                        \"params\": {\n",
    "                            \"field\": \"@model.factor\",\n",
    "                            \"vector\": query_vec,\n",
    "                            \"cosine\" : cosine\n",
    "                        }\n",
    "                    }\n",
    "            },\n",
    "            \"boost_mode\": \"replace\"\n",
    "        }\n",
    "    }\n",
    "}\n",
    "\n",
    "def get_similar(the_id, q=\"*\", num=10, index=esIndex, dt=esDocType):\n",
    "    response = es.get(index=index, doc_type=dt, id=the_id)\n",
    "    src = response['_source']\n",
    "    if '@model' in src and 'factor' in src['@model']:\n",
    "        raw_vec = src['@model']['factor']\n",
    "        # our script actually uses the list form for the query vector and handles conversion internally\n",
    "        query_vec = reverse_convert(raw_vec)\n",
    "        q = fn_query(query_vec, q=q, cosine=True)\n",
    "        results = es.search(index, dt, body=q)\n",
    "        hits = results['hits']['hits']\n",
    "        return src, hits[1:num+1]\n",
    "\n"
   ]
  },
  {
   "cell_type": "code",
   "execution_count": 10,
   "metadata": {
    "collapsed": false
   },
   "outputs": [],
   "source": [
    "def yelp_similar(the_id, q=\"*\", num=10, index=esIndex, dt=esDocType):\n",
    "    bussiness, recs = get_similar(the_id, q, num, index, dt)\n",
    "    # display query\n",
    "    print  \"Business: \",bussiness['id']\n",
    "    print  \"Business Name: \",bussiness['name']\n",
    "    print  \"Address: \",bussiness['address']\n",
    "    print  \"Category: \",bussiness['categories']\n",
    "    print  \"***************************\"\n",
    "    print  \"Similar Business List:\"\n",
    "    i = 0\n",
    "    for rec in recs:\n",
    "        i+=1\n",
    "        r_score = rec['_score']\n",
    "        r_source=rec['_source']\n",
    "        business_id = r_source['id']\n",
    "        city=r_source['city']\n",
    "        name=r_source['name']\n",
    "        text=r_source['text']\n",
    "        userId=r_source['userId']\n",
    "        stars=rec['_source']['stars']\n",
    "        address=rec['_source']['address']\n",
    "        categories=rec['_source']['categories']\n",
    "        print \"===================================\"\n",
    "        print \"No %s:\"%i\n",
    "        print \"Score: \", r_score\n",
    "        print \"Business ID: %s\"%business_id#r_im_url)\n",
    "        print \"City: \", city\n",
    "        print \"Name: \", name\n",
    "        print \"Address:  \", address\n",
    "        print \"Category: \", categories  \n",
    "        print \"UserId: \", userId\n",
    "        print \"Stars: \", stars\n",
    "        print \"User Comment: \"\n",
    "        print \"----------\"\n",
    "        print text\n"
   ]
  },
  {
   "cell_type": "markdown",
   "metadata": {},
   "source": [
    "### 5.2 Search similar business from ES.\n",
    "\n",
    "We can find the top 10 similar business from ES for a business ID.\n",
    "User also can use other App to get the result by ES for the model have been saved."
   ]
  },
  {
   "cell_type": "code",
   "execution_count": 11,
   "metadata": {
    "collapsed": false,
    "scrolled": false
   },
   "outputs": [
    {
     "name": "stdout",
     "output_type": "stream",
     "text": [
      "Business:  188\n",
      "Business Name:  Pink Box Doughnuts\n",
      "Address:  7531 W Lake Mead Blvd\n",
      "Category:  [u'Donuts', u'Food']\n",
      "***************************\n",
      "Similar Business List:\n",
      "===================================\n",
      "No 1:\n",
      "Score:  0.8855039\n",
      "Business ID: 2017\n",
      "City:  Las Vegas\n",
      "Name:  St. Tropez International Buffet\n",
      "Address:   9090 Alta Dr\n",
      "Category:  [u'Buffets', u'Restaurants']\n",
      "UserId:  17306\n",
      "Stars:  3.0\n",
      "User Comment: \n",
      "----------\n",
      "Big improvement on the Suncoast Buffet.  Something is there for everyone.\n",
      "===================================\n",
      "No 2:\n",
      "Score:  0.87698865\n",
      "Business ID: 6827\n",
      "City:  Las Vegas\n",
      "Name:  The Joint Chiropractic\n",
      "Address:   7120 N Durango, Ste H-170\n",
      "Category:  [u'Health & Medical', u'Chiropractors']\n",
      "UserId:  38791\n",
      "Stars:  5.0\n",
      "User Comment: \n",
      "----------\n",
      "Stacy always remembers my name. I have improved movement in my neck 50 percent since starting my routine w/The Joint.  Love it!!\n",
      "===================================\n",
      "No 3:\n",
      "Score:  0.85656875\n",
      "Business ID: 1407\n",
      "City:  Las Vegas\n",
      "Name:  Gorilla Sushi\n",
      "Address:   1801 E Tropicana Ave, Ste 2\n",
      "Category:  [u'Restaurants', u'Sushi Bars', u'Asian Fusion', u'Japanese']\n",
      "UserId:  28007\n",
      "Stars:  5.0\n",
      "User Comment: \n",
      "----------\n",
      "Absolutely my go to AYCE sushi place! I purely judge restruants by their food, service, and ambience. My friends and I were playing pool at the Gorilla Cafe and we were told that a new sushi place just opened up a month ago. So  I definitely had to try it out because I eat sushi often and it was also my friends first time so I had to be their \"Sushi Guide.\" Let me tell you.. The sushi was AMAZING. Not very heavy on the sauce, which I like, and the common special rolls like the Dragon, Caterpillar, and the Lisa Lisa was really on top of its game compared to some other places. My friends said it was a great first experience eating sushi and we were glad it had to be that place. Expect us every other week to eat there and play pool at the cafe. \n",
      "\n",
      "I recommend Edamame and Gyoza to get started. The rolls I definitely recommend are the Philadelphia, Lisa Lisa, Caterpillar, Dragon, Mexican Fiesta, and nigiri would hands down be the Paprika Salmon.\n",
      "===================================\n",
      "No 4:\n",
      "Score:  0.85472304\n",
      "Business ID: 209\n",
      "City:  Las Vegas\n",
      "Name:  The Original Sunrise Cafe\n",
      "Address:   8975 S Eastern Ave, Ste 6\n",
      "Category:  [u'Bagels', u'American (Traditional)', u'Food', u'Restaurants', u'Breakfast & Brunch']\n",
      "UserId:  3466\n",
      "Stars:  5.0\n",
      "User Comment: \n",
      "----------\n",
      "The best breakfast/lunch place!  Could not have been happier with our first time there.  Delicious food, fantastic service.  Will definitely be making some return visits.\n",
      "===================================\n",
      "No 5:\n",
      "Score:  0.8527351\n",
      "Business ID: 2853\n",
      "City:  Las Vegas\n",
      "Name:  ABC Store\n",
      "Address:   3663 Las Vegas Blvd S, Ste 145\n",
      "Category:  [u'Convenience Stores', u'Shopping', u'Souvenir Shops', u'Beer', u'Wine & Spirits', u'Jewelry', u'Food', u'Beauty & Spas', u'Cosmetics & Beauty Supply']\n",
      "UserId:  1595\n",
      "Stars:  5.0\n",
      "User Comment: \n",
      "----------\n",
      "Sometimes in Vegas it's a pain in the ass to get to a liquor store, and the gift shops should give out a complementary bottle of lube with each alcohol purchase. It's nice to have a convenient place to get anything you need and more at a reasonable price.\n",
      "\n",
      "I appreciate this store even more in Vegas than I did in Hawaii.\n",
      "===================================\n",
      "No 6:\n",
      "Score:  0.8312804\n",
      "Business ID: 6813\n",
      "City:  Las Vegas\n",
      "Name:  Vegas Golf\n",
      "Address:   4760 W Sahara Ave, Ste 3\n",
      "Category:  [u'Shopping', u'Golf Equipment', u'Sporting Goods', u'Active Life', u'Golf', u'Golf Equipment Shops']\n",
      "UserId:  16481\n",
      "Stars:  5.0\n",
      "User Comment: \n",
      "----------\n",
      "Had my irons re-gripped here and the service was just phenomenal.  You've guys are awesome!\n",
      "===================================\n",
      "No 7:\n",
      "Score:  0.82826996\n",
      "Business ID: 1014\n",
      "City:  Las Vegas\n",
      "Name:  iRepairs Wireless\n",
      "Address:   3735 Spring Mountain Rd, Ste 202\n",
      "Category:  [u'IT Services & Computer Repair', u'Electronics Repair', u'Local Services']\n",
      "UserId:  10584\n",
      "Stars:  5.0\n",
      "User Comment: \n",
      "----------\n",
      "Omg so fast and customer service was  terrific. Everywhere else I had to wait 4ever. Totally fixed my husbands Iphone 4 \n",
      "Fell in the toilet ouch\n",
      "===================================\n",
      "No 8:\n",
      "Score:  0.8274778\n",
      "Business ID: 673\n",
      "City:  Las Vegas\n",
      "Name:  Dollar Rent A Car\n",
      "Address:   7135 Gillespie St\n",
      "Category:  [u'Car Rental', u'Hotels & Travel']\n",
      "UserId:  43034\n",
      "Stars:  5.0\n",
      "User Comment: \n",
      "----------\n",
      "As an express member I expect to bypass the counter and go straight to my car. This does not always happen but this time it did! It is so nice to get off the plane and go straight to a car with no problems. In and out of the rental area within 10 min. \n",
      "\n",
      "Arrived 7am FYI\n",
      "===================================\n",
      "No 9:\n",
      "Score:  0.8255234\n",
      "Business ID: 5960\n",
      "City:  Las Vegas\n",
      "Name:  Bruce Scher's Tires\n",
      "Address:   5567 S Rainbow Blvd\n",
      "Category:  [u'Tires', u'Automotive']\n",
      "UserId:  9106\n",
      "Stars:  3.0\n",
      "User Comment: \n",
      "----------\n",
      "I chose this place because its close to home and very convenient.  The store is clean and the attendants are polite.  My only grip is that the service is slow.  I was the only car they were working on at the time (oil change and filter change) and it took over an hour.  I asked the guy at the counter what the hold up was and I was informed that they were waiting for my filter to arrive from another store.  Geesh.  \n",
      "\n",
      "I was irritated because before they started the work I asked how long it would take and if it was going to be a while I would just come back.  I was told it would be quick and it wasnt.  I did receive a coupon for half off my next oil change for my inconvenience.  THANK YOU for being thoughtful.  I will return again; however If the service is still slow my second visit may be my last.\n"
     ]
    }
   ],
   "source": [
    "yelp_similar(188)"
   ]
  },
  {
   "cell_type": "code",
   "execution_count": 13,
   "metadata": {
    "collapsed": false,
    "scrolled": false
   },
   "outputs": [
    {
     "name": "stdout",
     "output_type": "stream",
     "text": [
      "Business:  2391\n",
      "Business Name:  Big Elvis\n",
      "Address:  3475 Las Vegas Blvd S\n",
      "Category:  [u'Arts & Entertainment', u'Local Flavor', u'Performing Arts']\n",
      "***************************\n",
      "Similar Business List:\n",
      "===================================\n",
      "No 1:\n",
      "Score:  0.91857845\n",
      "Business ID: 7784\n",
      "City:  Las Vegas\n",
      "Name:  Danka K. Michaels, MD\n",
      "Address:   3320 N Buffalo Dr, Ste 106\n",
      "Category:  [u'Doctors', u'Health & Medical']\n",
      "UserId:  7811\n",
      "Stars:  5.0\n",
      "User Comment: \n",
      "----------\n",
      "Dr Michael's is a great doctor.  I have been seeing her for four years and she and her PA Roberto are both gems.\n",
      "===================================\n",
      "No 2:\n",
      "Score:  0.8838447\n",
      "Business ID: 9172\n",
      "City:  Las Vegas\n",
      "Name:  Fancy Fine European Bakery\n",
      "Address:   420 S Rampart Blvd\n",
      "Category:  [u'Desserts', u'Ice Cream & Frozen Yogurt', u'Bakeries', u'Food']\n",
      "UserId:  18221\n",
      "Stars:  1.0\n",
      "User Comment: \n",
      "----------\n",
      "Awful!!! Ordered the red velvet cake it was like a month old it was so dry my kids wouldn't even eat it, same with the chocolate cake and the mini cheesecakes don't even taste like cheesecake! Won't be ordering from here anymore! Gross!\n",
      "===================================\n",
      "No 3:\n",
      "Score:  0.8675007\n",
      "Business ID: 882\n",
      "City:  Las Vegas\n",
      "Name:  Teppan Bento\n",
      "Address:   467 E Silverado Ranch, Unit 125\n",
      "Category:  [u'Teppanyaki', u'Japanese', u'Restaurants', u'Asian Fusion']\n",
      "UserId:  37732\n",
      "Stars:  5.0\n",
      "User Comment: \n",
      "----------\n",
      "Tasty treat for those inclined for some benihana-esque flavors at a much more reasonable price!\n",
      "The homemade ahi poke was a nice blend. \n",
      "\n",
      "The calamari and shrimp bento box was nicely cooked, not overdone and rubbery.  The grilled vegetables were slightly over seasoned for my tastes but I tend to like mine under seasoned. \n",
      "\n",
      "The chicken fried rice and the garlic butter that they serve in addition to the variety of sauces is awesome!\n",
      "===================================\n",
      "No 4:\n",
      "Score:  0.8612727\n",
      "Business ID: 2655\n",
      "City:  Las Vegas\n",
      "Name:  United Artists Showcase Theatre 8\n",
      "Address:   3769 Las Vegas Boulevard South\n",
      "Category:  [u'Performing Arts', u'Arts & Entertainment', u'Cinema']\n",
      "UserId:  32496\n",
      "Stars:  5.0\n",
      "User Comment: \n",
      "----------\n",
      "In Vegas for a conference and not into the gambling scene so decided to catch up on Enders Game. The place is off in an alley but there are small purple markers by the alley entrance on the denny's side.\n",
      "\n",
      "Staff were friendly and the popcorn and food looked fresh (though I did not buy some myself). Seats were comfy and no odd smells to distract from the moviegoing experience. \n",
      "\n",
      "Definitely a good theatre and it's owned by regal so you can get regal points if you are a member. Not sure why so many negative reviews by as of Nov 2013 when I am writing this review, i don't see those issues..\n",
      "===================================\n",
      "No 5:\n",
      "Score:  0.8565418\n",
      "Business ID: 7317\n",
      "City:  Las Vegas\n",
      "Name:  High Desert Sharpening\n",
      "Address:   5905 Martita Ave\n",
      "Category:  [u'Knife Sharpening', u'Local Services']\n",
      "UserId:  7581\n",
      "Stars:  5.0\n",
      "User Comment: \n",
      "----------\n",
      "Excellent sharpening of my wusthofs and kyoceras not to mention priced reasonably. Thanks Vernon for the personable and great service!\n",
      "===================================\n",
      "No 6:\n",
      "Score:  0.8560922\n",
      "Business ID: 5203\n",
      "City:  Las Vegas\n",
      "Name:  Dollar Tree\n",
      "Address:   324 S Decatur Blvd\n",
      "Category:  [u'Discount Store', u'Shopping']\n",
      "UserId:  14917\n",
      "Stars:  5.0\n",
      "User Comment: \n",
      "----------\n",
      "Love Dollar Tree. Always make it a point to stop in when I'm in Vegas. Found some Halloween novelties for my nephew & co-workers. And some snacks for me.\n",
      "Lots of free parking. Extra friendly staff & great variety of merchandise.\n",
      "===================================\n",
      "No 7:\n",
      "Score:  0.83918977\n",
      "Business ID: 4814\n",
      "City:  Las Vegas\n",
      "Name:  Ed Hardy by Christian Audigier\n",
      "Address:   Fashion Show Mall, 3200 Las Vegas Blvd\n",
      "Category:  [u\"Men's Clothing\", u'Shopping', u\"Women's Clothing\", u'Fashion']\n",
      "UserId:  29378\n",
      "Stars:  2.0\n",
      "User Comment: \n",
      "----------\n",
      "No variety to this location (Fashion Show Mall) The store is very small no selection in clothing. The workers at this location are very RUDE. You are better off going to the Premium Outlet ( Ed Hardy Outlet) you would save a lot of money and the workers are so much more friendly.\n",
      "===================================\n",
      "No 8:\n",
      "Score:  0.82943267\n",
      "Business ID: 3204\n",
      "City:  Las Vegas\n",
      "Name:  Pasta Cucina\n",
      "Address:   Boulder Station Hotel & Casino, 4117 Boulder Hwy\n",
      "Category:  [u'Seafood', u'Buffets', u'Italian', u'American (Traditional)', u'Steakhouses', u'Mexican', u'Restaurants']\n",
      "UserId:  10199\n",
      "Stars:  5.0\n",
      "User Comment: \n",
      "----------\n",
      "The food here is amazing, especially for the price and the atmosphere is nice. The best part about it is the service. We had some of the best service I have ever had while dining at Pasta Cucina. Literally from beginning to end. The hostess was engaging and polite. Our server took the time to ask about us and get to know us, and the food runner was funny and entertaining. There was great energy flowing through all of them. They were a great team and we thoroughly delightful. Thank you so very much! :)\n",
      "===================================\n",
      "No 9:\n",
      "Score:  0.8292637\n",
      "Business ID: 1131\n",
      "City:  Las Vegas\n",
      "Name:  Luxe Pet Hotels\n",
      "Address:   3480 Cavaretta Ct\n",
      "Category:  [u'Pet Boarding/Pet Sitting', u'Pet Groomers', u'Pets', u'Pet Services']\n",
      "UserId:  9167\n",
      "Stars:  5.0\n",
      "User Comment: \n",
      "----------\n",
      "First  when you walk in this place is so peaceful and elegantly decorated it feels like you are in a high end spa for humans! Then the tour of the facility was astounding how fresh smelling and super clean . The rooms were roomy enough for both our dogs . They also had Designer Rooms with actual queen size beds and 45' screen tv . Yet the regular rooms also had the televisions and a couch for the guests to sleep. The play areas were also super clean and the staff was super attentive to all the doggies. They even text us pictures of them playing with the other guests!!!! I was a phenomenal feeling to get these pictures , to see that our babies were having  a \"Vegas Experience\" just like we were! Thank you so much Zanetta and your Phenomenally Fantastic Staff for taking care of our Babies!!! We will be back to Vegas more now that we have found these Wonderfull People and their Amazingly Luxurious accommodations for our Babies!! If you love your Dogs their is No other place !!!\n"
     ]
    }
   ],
   "source": [
    "yelp_similar(2391)"
   ]
  },
  {
   "cell_type": "code",
   "execution_count": null,
   "metadata": {
    "collapsed": true
   },
   "outputs": [],
   "source": []
  }
 ],
 "metadata": {
  "anaconda-cloud": {},
  "kernelspec": {
   "display_name": "Python [default]",
   "language": "python",
   "name": "python2"
  },
  "language_info": {
   "codemirror_mode": {
    "name": "ipython",
    "version": 2
   },
   "file_extension": ".py",
   "mimetype": "text/x-python",
   "name": "python",
   "nbconvert_exporter": "python",
   "pygments_lexer": "ipython2",
   "version": "2.7.12"
  }
 },
 "nbformat": 4,
 "nbformat_minor": 1
}
