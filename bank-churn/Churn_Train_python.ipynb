{
 "cells": [
  {
   "cell_type": "markdown",
   "metadata": {},
   "source": [
    "\n",
    "# Model training of the churn data\n",
    "## Import the required libraries"
   ]
  },
  {
   "cell_type": "code",
   "execution_count": 1,
   "metadata": {
    "collapsed": false
   },
   "outputs": [],
   "source": [
    "#import libraries\n",
    "from pyspark.ml.feature import StringIndexer, VectorAssembler\n",
    "from pyspark.ml import Pipeline\n",
    "from pyspark.ml.classification import LogisticRegression\n",
    "from pyspark.ml.tuning import CrossValidator, ParamGridBuilder\n",
    "from pyspark.ml.evaluation import BinaryClassificationEvaluator"
   ]
  },
  {
   "cell_type": "markdown",
   "metadata": {},
   "source": [
    "\n",
    "# Load the data from Object Storage into dataframe and split for training, testing and evaluating"
   ]
  },
  {
   "cell_type": "code",
   "execution_count": 3,
   "metadata": {
    "collapsed": false
   },
   "outputs": [
    {
     "data": {
      "text/plain": [
       "[Row(CUST_ID=1009530860, SEX=u'F', AGE=84, EDUCATION=2, INVESTMENT=114368, INCOME=3852862, ACTIVITY=5, CHURN=0, YRLY_AMT=700259.0, AVG_DAILY_TX=0.917808, YRLY_TX=335, AVG_TX_AMT=2090.32, NEGTWEETS=3, STATE=u'TX', EDUCATION_GROUP=u'Bachelors degree', TwitterID=0, CHURN_LABEL=u'false'),\n",
       " Row(CUST_ID=1009544000, SEX=u'F', AGE=44, EDUCATION=2, INVESTMENT=90298, INCOME=3849843, ACTIVITY=1, CHURN=0, YRLY_AMT=726977.0, AVG_DAILY_TX=0.950685, YRLY_TX=347, AVG_TX_AMT=2095.04, NEGTWEETS=2, STATE=u'CA', EDUCATION_GROUP=u'Bachelors degree', TwitterID=0, CHURN_LABEL=u'false'),\n",
       " Row(CUST_ID=1009534260, SEX=u'F', AGE=23, EDUCATION=2, INVESTMENT=94881, INCOME=3217364, ACTIVITY=1, CHURN=1, YRLY_AMT=579084.0, AVG_DAILY_TX=0.920548, YRLY_TX=336, AVG_TX_AMT=1723.46, NEGTWEETS=5, STATE=u'CA', EDUCATION_GROUP=u'Bachelors degree', TwitterID=0, CHURN_LABEL=u'true'),\n",
       " Row(CUST_ID=1009574010, SEX=u'F', AGE=24, EDUCATION=2, INVESTMENT=112099, INCOME=2438218, ACTIVITY=4, CHURN=1, YRLY_AMT=470964.0, AVG_DAILY_TX=0.994521, YRLY_TX=363, AVG_TX_AMT=1297.4199, NEGTWEETS=2, STATE=u'WA', EDUCATION_GROUP=u'Bachelors degree', TwitterID=0, CHURN_LABEL=u'true'),\n",
       " Row(CUST_ID=1009578620, SEX=u'F', AGE=67, EDUCATION=5, INVESTMENT=84638, INCOME=2428245, ACTIVITY=3, CHURN=0, YRLY_AMT=446615.0, AVG_DAILY_TX=0.917808, YRLY_TX=335, AVG_TX_AMT=1333.1799, NEGTWEETS=3, STATE=u'CT', EDUCATION_GROUP=u'Doctorate', TwitterID=0, CHURN_LABEL=u'false')]"
      ]
     },
     "execution_count": 3,
     "metadata": {},
     "output_type": "execute_result"
    }
   ],
   "source": [
    "from pyspark.sql import SQLContext\n",
    "sqlContext = SQLContext(sc)\n",
    "\n",
    "# This function is used to setup the access of Spark to your Object Storage. The definition contains your credentials.\n",
    "# You might want to remove those credentials before you share your notebook.\n",
    "def set_hadoop_config_with_credentials_64e9c4bd3e4148978db0a312dfcc0a93(name):\n",
    "    \"\"\"This function sets the Hadoop configuration so it is possible to\n",
    "    access data from Bluemix Object Storage using Spark\"\"\"\n",
    "\n",
    "    prefix = 'fs.swift.service.' + name\n",
    "    hconf = sc._jsc.hadoopConfiguration()\n",
    "    hconf.set(prefix + '.auth.url', 'https://identity.open.softlayer.com'+'/v3/auth/tokens')\n",
    "    hconf.set(prefix + '.auth.endpoint.prefix', 'endpoints')\n",
    "    hconf.set(prefix + '.tenant', '419cd8dece644c82af5a615b62af38e1')\n",
    "    hconf.set(prefix + '.username', '61e622a296924b9f8f5ddd0bd74f96b6')\n",
    "    hconf.set(prefix + '.password', 'w0C9Eh4)Ssel~ihb')\n",
    "    hconf.setInt(prefix + '.http.port', 8080)\n",
    "    hconf.set(prefix + '.region', 'dallas')\n",
    "    hconf.setBoolean(prefix + '.public', False)\n",
    "\n",
    "# you can choose any name\n",
    "name = 'keystone'\n",
    "set_hadoop_config_with_credentials_64e9c4bd3e4148978db0a312dfcc0a93(name)\n",
    "\n",
    "df_data_1 = sqlContext.read.format('com.databricks.spark.csv')\\\n",
    "  .options(header='true', inferschema='true')\\\n",
    "  .load(\"swift://ChurnModelTraing.\" + name + \"/CUST_SUM.csv\")\n",
    "df_data_1.take(5)\n"
   ]
  },
  {
   "cell_type": "code",
   "execution_count": 4,
   "metadata": {
    "collapsed": false
   },
   "outputs": [
    {
     "name": "stdout",
     "output_type": "stream",
     "text": [
      "The number of training data is  4771\n",
      "The number of test data is  6001\n"
     ]
    }
   ],
   "source": [
    "# Split data into training (80%) and test (20%)\n",
    "trainDF, testDF = df_data_1.randomSplit([0.8, 0.2])\n",
    "print \"The number of training data is \",trainDF.count()\n",
    "print \"The number of test data is \",df_data_1.count()"
   ]
  },
  {
   "cell_type": "code",
   "execution_count": 5,
   "metadata": {
    "collapsed": false
   },
   "outputs": [],
   "source": [
    "genderIndexer = StringIndexer(inputCol=\"SEX\",outputCol=\"gender_code\")\n",
    "stateIndexer = StringIndexer(inputCol=\"STATE\",outputCol=\"state_code\")\n",
    "labelIndexer = StringIndexer(inputCol=\"CHURN\",outputCol=\"label\")\n",
    "featuresAssembler = VectorAssembler(inputCols=[\"AGE\",\"ACTIVITY\",\"EDUCATION\",\"NEGTWEETS\" ,\"INCOME\",\"gender_code\",\"state_code\"],outputCol=\"features\")"
   ]
  },
  {
   "cell_type": "code",
   "execution_count": 6,
   "metadata": {
    "collapsed": false
   },
   "outputs": [],
   "source": [
    "lr = LogisticRegression(regParam=0.01,labelCol=\"label\",featuresCol=\"features\")\n",
    "pipeline = Pipeline(stages=[labelIndexer, genderIndexer, stateIndexer, featuresAssembler,lr])\n",
    "auc_eval = BinaryClassificationEvaluator()\n",
    "grid = ParamGridBuilder() \\\n",
    "    .addGrid(lr.regParam, [1e-4, 1e-2]) \\\n",
    "    .addGrid(lr.elasticNetParam, [0.5, 0.0]) \\\n",
    "    .build()\n",
    "cross_val = CrossValidator(estimator=pipeline, evaluator=auc_eval, estimatorParamMaps=grid, numFolds=3)"
   ]
  },
  {
   "cell_type": "code",
   "execution_count": 7,
   "metadata": {
    "collapsed": false
   },
   "outputs": [
    {
     "name": "stderr",
     "output_type": "stream",
     "text": [
      "/usr/local/src/spark160master/spark/python/pyspark/ml/classification.py:207: UserWarning: weights is deprecated. Use coefficients instead.\n",
      "  warnings.warn(\"weights is deprecated. Use coefficients instead.\")\n"
     ]
    }
   ],
   "source": [
    "pipeline_model = cross_val.fit(trainDF)\n",
    "testResult=pipeline_model.transform(testDF)"
   ]
  },
  {
   "cell_type": "markdown",
   "metadata": {},
   "source": [
    "\n",
    "# Evaluate the trained model and draw the ROC curve"
   ]
  },
  {
   "cell_type": "code",
   "execution_count": 8,
   "metadata": {
    "collapsed": false
   },
   "outputs": [],
   "source": [
    "import numpy as np\n",
    "import pandas as pd\n",
    "from sklearn.metrics import roc_curve\n",
    "testDF=testResult.select(\"prediction\",\"label\").toPandas()\n",
    "a=np.array(testDF.label)\n",
    "b=np.array(testDF.prediction)\n",
    "fpr, tpr, thresholds = roc_curve(a, b, pos_label=1)\n",
    "data={'FPR':fpr,'TPR':tpr}\n",
    "rocPD=pd.DataFrame(data)"
   ]
  },
  {
   "cell_type": "code",
   "execution_count": 9,
   "metadata": {
    "collapsed": false
   },
   "outputs": [
    {
     "data": {
      "text/html": [
       "<!--\n",
       "  ~ Copyright (c) 2015 IBM Corporation and others.\n",
       "  ~\n",
       "  ~ Licensed under the Apache License, Version 2.0 (the \"License\");\n",
       "  ~ You may not use this file except in compliance with the License.\n",
       "  ~ You may obtain a copy of the License at\n",
       "  ~\n",
       "  ~     http://www.apache.org/licenses/LICENSE-2.0\n",
       "  ~\n",
       "  ~ Unless required by applicable law or agreed to in writing, software\n",
       "  ~ distributed under the License is distributed on an \"AS IS\" BASIS,\n",
       "  ~ WITHOUT WARRANTIES OR CONDITIONS OF ANY KIND, either express or implied.\n",
       "  ~ See the License for the specific language governing permissions and\n",
       "  ~ limitations under the License.\n",
       "  -->\n",
       "\n",
       "\n",
       "<link rel=\"stylesheet\" type=\"text/css\" href=\"/data/jupyter2/c0a5987a-d373-482a-8eaa-ecfae906ffcb/nbextensions/brunel_ext/Brunel.css\">\n",
       "<link rel=\"stylesheet\" type=\"text/css\" href=\"/data/jupyter2/c0a5987a-d373-482a-8eaa-ecfae906ffcb/nbextensions/brunel_ext/sumoselect/sumoselect.css\">\n",
       "\n",
       "<style>\n",
       "    \n",
       "</style>\n",
       "\n",
       "<svg id=\"visid16a54136-0c64-11e7-9e74-002590fb6db4\" width=\"500\" height=\"400\"></svg>"
      ],
      "text/plain": [
       "<IPython.core.display.HTML object>"
      ]
     },
     "metadata": {},
     "output_type": "display_data"
    },
    {
     "data": {
      "application/javascript": [
       "/*\n",
       " * Copyright (c) 2015 IBM Corporation and others.\n",
       " *\n",
       " * Licensed under the Apache License, Version 2.0 (the \"License\");\n",
       " * You may not use this file except in compliance with the License.\n",
       " * You may obtain a copy of the License at\n",
       " *\n",
       " *     http://www.apache.org/licenses/LICENSE-2.0\n",
       " *\n",
       " * Unless required by applicable law or agreed to in writing, software\n",
       " * distributed under the License is distributed on an \"AS IS\" BASIS,\n",
       " * WITHOUT WARRANTIES OR CONDITIONS OF ANY KIND, either express or implied.\n",
       " * See the License for the specific language governing permissions and\n",
       " * limitations under the License.\n",
       " */\n",
       "\n",
       "require.config({\n",
       "    waitSeconds: 60,\n",
       "    paths: {\n",
       "        'd3': '//cdnjs.cloudflare.com/ajax/libs/d3/3.5.5/d3.min',\n",
       "        'BrunelD3': '/data/jupyter2/c0a5987a-d373-482a-8eaa-ecfae906ffcb/nbextensions/brunel_ext/BrunelD3',\n",
       "        'BrunelData': '/data/jupyter2/c0a5987a-d373-482a-8eaa-ecfae906ffcb/nbextensions/brunel_ext/BrunelData',\n",
       "        'BrunelEventHandlers': '/data/jupyter2/c0a5987a-d373-482a-8eaa-ecfae906ffcb/nbextensions/brunel_ext/BrunelEventHandlers'\n",
       "    },\n",
       "    shim: {\n",
       "        'BrunelD3': {\n",
       "            exports: 'BrunelD3'\n",
       "        },\n",
       "        'BrunelData': {\n",
       "            exports: 'BrunelData'\n",
       "        },\n",
       "        'BrunelEventHandlers': {\n",
       "            exports: 'BrunelEventHandlers'\n",
       "        },\n",
       "    }\n",
       "\n",
       "});\n",
       "\n",
       "require([\"d3\"], function(d3) {\n",
       "require([\"BrunelD3\", \"BrunelData\", \"BrunelEventHandlers\"], function(BrunelD3, BrunelData, BrunelEventHandlers) {\n",
       "    function  BrunelVis(visId) {\n",
       "  \"use strict\"; // Strict Mode\n",
       "  var datasets = [],                               // Array of datasets for the original data\n",
       "      pre = function(d, i) { return d },           // Default pre-process does nothing\n",
       "      post = function(d, i) { return d },          // Default post-process does nothing\n",
       "      transitionTime = 200,                        // Transition time for animations\n",
       "      charts = [],                                 // The charts in the system\n",
       "      vis = d3.select('#' + visId).attr('class', 'brunel');  // the SVG container\n",
       "\n",
       "  // Define chart #1 in the visualization //////////////////////////////////////////////////////////\n",
       "\n",
       "  charts[0] = function(parentNode, filterRows) {\n",
       "    var geom = BrunelD3.geometry(parentNode || vis.node(), 0, 0, 1, 1, 5, 45, 36, 12),\n",
       "      elements = [];                               // Array of elements in this chart\n",
       "\n",
       "    // Define groups for the chart parts ///////////////////////////////////////////////////////////\n",
       "\n",
       "    var chart = vis.append('g').attr('class', 'chart1')\n",
       "      .attr('transform','translate(' + geom.chart_left + ',' + geom.chart_top + ')');\n",
       "    chart.append('rect').attr('class', 'background').attr('width', geom.chart_right-geom.chart_left).attr('height', geom.chart_bottom-geom.chart_top);\n",
       "    var interior = chart.append('g').attr('class', 'interior')\n",
       "      .attr('transform','translate(' + geom.inner_left + ',' + geom.inner_top + ')')\n",
       "      .attr('clip-path', 'url(#clip_visid16a54136-0c64-11e7-9e74-002590fb6db4_1)');\n",
       "    interior.append('rect').attr('class', 'inner').attr('width', geom.inner_width).attr('height', geom.inner_height);\n",
       "    var overlay = interior.append('g').attr('class', 'element')\n",
       "      .attr('class', 'overlay').style('cursor','move').style('fill','none').style('pointer-events','all');\n",
       "    var zoom = d3.behavior.zoom().on('zoom', function() {build(-1)} );\n",
       "    overlay.append('rect').attr('class', 'overlay')\n",
       "      .attr('width', geom.inner_width)\n",
       "      .attr('height', geom.inner_height)\n",
       "      .call(zoom);\n",
       "    var axes = chart.append('g').attr('class', 'axis')\n",
       "      .attr('transform','translate(' + geom.inner_left + ',' + geom.inner_top + ')');\n",
       "    vis.append('clipPath').attr('id', 'clip_visid16a54136-0c64-11e7-9e74-002590fb6db4_1').append('rect')\n",
       "      .attr('x', -1).attr('y', -1)\n",
       "      .attr('width', geom.inner_width+2).attr('height', geom.inner_height+2);\n",
       "\n",
       "    // Scales //////////////////////////////////////////////////////////////////////////////////////\n",
       "\n",
       "    var scale_x = d3.scale.linear()\n",
       "      .domain([0, 1])\n",
       "      .range([0, geom.inner_width]);\n",
       "    var scale_inner = d3.scale.linear().domain([0,1])\n",
       "      .range([-0.5, 0.5]);\n",
       "    var scale_y = d3.scale.linear()\n",
       "      .domain([0, 1])\n",
       "      .range([geom.inner_height,0]);\n",
       "    zoom.x(scale_x).y(scale_y);\n",
       "\n",
       "    // Axes ////////////////////////////////////////////////////////////////////////////////////////\n",
       "\n",
       "    axes.append('g').attr('class', 'x axis')\n",
       "      .attr('transform','translate(0,' + geom.inner_height + ')');\n",
       "    axes.select('g.axis.x').append('text').attr('class', 'title')\n",
       "      .attr('text-anchor', 'middle')\n",
       "      .attr('x', geom.inner_width/2)\n",
       "      .attr('y', geom.inner_bottom - 6)\n",
       "      .text('False Positive Rate');\n",
       "    axes.append('g').attr('class', 'y axis')\n",
       "      .attr('transform','translate(geom.chart_left, 0)');\n",
       "    axes.select('g.axis.y').append('text').attr('class', 'title')\n",
       "      .attr('text-anchor', 'middle')\n",
       "      .attr('x', -geom.inner_height/2)\n",
       "      .attr('y', 6-geom.inner_left).attr('dy', '0.7em').attr('transform', 'rotate(270)')\n",
       "      .text('True Positive Rate');\n",
       "\n",
       "    var axis_bottom = d3.svg.axis()\n",
       "      .scale(scale_x).innerTickSize(3).outerTickSize(0)\n",
       "      .ticks(Math.min(10, Math.round(geom.inner_width / 28.5)));\n",
       "    var axis_left = d3.svg.axis().orient('left')\n",
       "      .scale(scale_y).innerTickSize(3).outerTickSize(0);\n",
       "\n",
       "    function buildAxes() {\n",
       "      axes.select('g.axis.x').call(axis_bottom);\n",
       "      axes.select('g.axis.y').call(axis_left);\n",
       "    }\n",
       "\n",
       "    // Define element #1 ///////////////////////////////////////////////////////////////////////////\n",
       "\n",
       "    elements[0] = function() {\n",
       "      var original, processed,           // data sets passed in and then transformed\n",
       "        element, data,                   // Brunel element information and brunel data\n",
       "        selection;                       // D3 selection\n",
       "      var elementGroup = interior.append('g').attr('class', 'element1'),\n",
       "        main = elementGroup.append('g').attr('class', 'main'),\n",
       "        labels = BrunelD3.undoTransform(elementGroup.append('g').attr('class', 'labels'), elementGroup);\n",
       "\n",
       "      function makeData() {\n",
       "        original = datasets[0];\n",
       "        if (filterRows) original = original.retainRows(filterRows);\n",
       "        processed = pre(original, 0)\n",
       "          .sortRows('FPR:ascending');\n",
       "        processed = post(processed, 0);\n",
       "        var f0 = processed.field('FPR'),\n",
       "          f1 = processed.field('TPR'),\n",
       "          f2 = processed.field('#row');\n",
       "        var keyFunc = function(d) { return 'ALL' };\n",
       "        data = {\n",
       "          FPR:          function(d) { return f0.value(d.row) },\n",
       "          TPR:          function(d) { return f1.value(d.row) },\n",
       "          $row:         function(d) { return f2.value(d.row) },\n",
       "          FPR_f:        function(d) { return f0.valueFormatted(d.row) },\n",
       "          TPR_f:        function(d) { return f1.valueFormatted(d.row) },\n",
       "          $row_f:       function(d) { return f2.valueFormatted(d.row) },\n",
       "          _split:       function(d) { return 'ALL' },\n",
       "          _key:         keyFunc,\n",
       "          _rows:        BrunelD3.makeRowsWithKeys(keyFunc, processed.rowCount())\n",
       "        };\n",
       "      }\n",
       "\n",
       "      // Build element from data ///////////////////////////////////////////////////////////////////\n",
       "\n",
       "      function build(transitionMillis) {\n",
       "        element = elements[0];\n",
       "        var x = function(d) { return scale_x(data.FPR(d))};\n",
       "        var w = geom.default_point_size;\n",
       "        var y = function(d) { return scale_y(data.TPR(d))};\n",
       "        var h = function(d) { return Math.abs( scale_y(0.06501547987599998) - scale_y(0) )};\n",
       "        var path = d3.svg.line().x(x).y(y);\n",
       "        var splits = BrunelD3.makePathSplits(data, path, x);\n",
       "        selection = main.selectAll('*').data(splits, function(d) { return d.key});\n",
       "        selection.enter().append('path').attr('class',  'element line');\n",
       "\n",
       "        BrunelD3.trans(selection,transitionMillis)\n",
       "          .attr('d', function(d) { return d.path });\n",
       "\n",
       "        var tooltipLabeling = {\n",
       "          method: 'path', \n",
       "          fit: true,\n",
       "          path: path,\n",
       "          content: function(d) {\n",
       "            return d.row == null ? null : '<span class=\"title\">FPR: </span>'\n",
       "\t\t\t+ '<span class=\"field\">' + data.FPR_f(d) + '</span>'\n",
       "\t\t\t+ '<br/>'\n",
       "\t\t\t+ '<span class=\"title\">TPR: </span>'\n",
       "\t\t\t+ '<span class=\"field\">' + data.TPR_f(d) + '</span>'\n",
       "          }\n",
       "        };\n",
       "        BrunelD3.addTooltip(selection, tooltipLabeling, geom);\n",
       "\n",
       "        BrunelD3.trans(selection.exit(),transitionMillis/3)\n",
       "          .style('opacity', 0.5).each( function() {this.remove(); if (this.__label__) this.__label__.remove()});\n",
       "      }\n",
       "\n",
       "      return {\n",
       "        data:           function() { return processed },\n",
       "        internal:       function() { return data },\n",
       "        selection:      function() { return selection },\n",
       "        makeData:       makeData,\n",
       "        build:          build,\n",
       "        fields: {\n",
       "          x:            ['FPR'],\n",
       "          y:            ['TPR']\n",
       "        }\n",
       "      };\n",
       "    }();\n",
       "\n",
       "    function build(time) {\n",
       "      var first = elements[0].data() == null;\n",
       "      if (first) time = 0; // No transition for first call\n",
       "      buildAxes(); \n",
       "      if (first || time>0) elements[0].makeData();\n",
       "      elements[0].build(time);\n",
       "    }\n",
       "\n",
       "    // Expose the following components of the chart\n",
       "    return { build : build, elements : elements };\n",
       "    }();\n",
       "\n",
       "  function setData(rowData, i) { datasets[i||0] = BrunelD3.makeData(rowData) }\n",
       "  function updateAll(time) { charts.forEach(function(x) {x.build(time || 20)}) }\n",
       "  function buildAll() {\n",
       "    for (var i=0;i<arguments.length;i++) setData(arguments[i], i);\n",
       "    updateAll(transitionTime);\n",
       "  }\n",
       "\n",
       "  return {\n",
       "    dataPreProcess:     function(f) { if (f) pre = f; return pre },\n",
       "    dataPostProcess:    function(f) { if (f) post = f; return post },\n",
       "    data:               function(d,i) { if (d) setData(d,i); return datasets[i||0] },\n",
       "    visId:              visId,\n",
       "    build:              buildAll,\n",
       "    rebuild:            updateAll,\n",
       "    charts:             charts\n",
       "  }\n",
       "}\n",
       "\n",
       "// Data Tables /////////////////////////////////////////////////////////////////////////////////////\n",
       "\n",
       "var table1 = {\n",
       "   names: ['FPR', 'TPR'], \n",
       "   options: ['numeric', 'numeric'], \n",
       "   rows: [[0, 0], [0.00330761, 0.93498452], [1, 1]]\n",
       "};\n",
       "\n",
       "// Call Code to Build the system ///////////////////////////////////////////////////////////////////\n",
       "\n",
       "var v = new BrunelVis('visid16a54136-0c64-11e7-9e74-002590fb6db4');\n",
       "v.build(table1);\n",
       "\n",
       "    \n",
       "});\n",
       "});"
      ],
      "text/plain": [
       "<IPython.core.display.Javascript object>"
      ]
     },
     "execution_count": 9,
     "metadata": {},
     "output_type": "execute_result"
    }
   ],
   "source": [
    "import brunel\n",
    "%brunel data('rocPD') x(FPR) y(TPR) line tooltip(#all) axes(x:'False Positive Rate':grid, y:'True Positive Rate':grid)"
   ]
  },
  {
   "cell_type": "code",
   "execution_count": 10,
   "metadata": {
    "collapsed": false
   },
   "outputs": [
    {
     "name": "stdout",
     "output_type": "stream",
     "text": [
      "+---+--------+---------+---------+------+---+-----+\n",
      "|AGE|ACTIVITY|EDUCATION|NEGTWEETS|INCOME|SEX|STATE|\n",
      "+---+--------+---------+---------+------+---+-----+\n",
      "| 40|       1|        3|        4|200000|  M|   TX|\n",
      "| 40|       1|        3|        8|200000|  M|   OR|\n",
      "+---+--------+---------+---------+------+---+-----+\n",
      "\n",
      "+-----------+----------+--------------------+----------+\n",
      "|gender_code|state_code|            features|prediction|\n",
      "+-----------+----------+--------------------+----------+\n",
      "|        0.0|      22.0|[40.0,1.0,3.0,4.0...|       0.0|\n",
      "|        0.0|       5.0|[40.0,1.0,3.0,8.0...|       1.0|\n",
      "+-----------+----------+--------------------+----------+\n",
      "\n"
     ]
    }
   ],
   "source": [
    "dataFrame=[(40,1,3,4,200000,'M','TX'),(40,1,3,8,200000,'M','OR')]\n",
    "dataTest=sqlContext.createDataFrame(dataFrame,[\"AGE\",\"ACTIVITY\",\"EDUCATION\",\"NEGTWEETS\" ,\"INCOME\",\"SEX\",\"STATE\"])\n",
    "dataTest.show()\n",
    "pipeline_model.transform(dataTest).select(\"gender_code\",\"state_code\",\"features\",\"prediction\").show() "
   ]
  }
 ],
 "metadata": {
  "kernelspec": {
   "display_name": "Python 2 with Spark 1.6",
   "language": "python",
   "name": "python2"
  },
  "language_info": {
   "codemirror_mode": {
    "name": "ipython",
    "version": 2
   },
   "file_extension": ".py",
   "mimetype": "text/x-python",
   "name": "python",
   "nbconvert_exporter": "python",
   "pygments_lexer": "ipython2",
   "version": "2.7.11"
  }
 },
 "nbformat": 4,
 "nbformat_minor": 0
}