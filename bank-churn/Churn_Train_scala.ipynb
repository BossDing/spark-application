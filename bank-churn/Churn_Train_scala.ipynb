{
 "cells": [
  {
   "cell_type": "markdown",
   "metadata": {},
   "source": [
    "\n",
    "# Model training of the churn data\n",
    "## Import the required libraries"
   ]
  },
  {
   "cell_type": "code",
   "execution_count": 1,
   "metadata": {
    "collapsed": false
   },
   "outputs": [],
   "source": [
    "//import libraries\n",
    "import org.apache.spark.ml.feature.{StringIndexer,VectorAssembler}\n",
    "import org.apache.spark.ml.classification.LogisticRegression\n",
    "import org.apache.spark.ml.evaluation.BinaryClassificationEvaluator\n",
    "import org.apache.spark.ml.Pipeline\n",
    "import org.apache.spark.ml.tuning.{CrossValidator,ParamGridBuilder}\n"
   ]
  },
  {
   "cell_type": "markdown",
   "metadata": {},
   "source": [
    "# Load the data from Object Storage into dataframe and split for training, testing and evaluating"
   ]
  },
  {
   "cell_type": "code",
   "execution_count": 1,
   "metadata": {
    "collapsed": false
   },
   "outputs": [
    {
     "name": "stdout",
     "output_type": "stream",
     "text": [
      "+----------+---+---+---------+----------+-------+--------+-----+--------+------------+-------+----------+---------+-----+----------------+---------+-----------+\n",
      "|   CUST_ID|SEX|AGE|EDUCATION|INVESTMENT| INCOME|ACTIVITY|CHURN|YRLY_AMT|AVG_DAILY_TX|YRLY_TX|AVG_TX_AMT|NEGTWEETS|STATE| EDUCATION_GROUP|TwitterID|CHURN_LABEL|\n",
      "+----------+---+---+---------+----------+-------+--------+-----+--------+------------+-------+----------+---------+-----+----------------+---------+-----------+\n",
      "|1009530860|  F| 84|        2|    114368|3852862|       5|    0|700259.0|    0.917808|    335|   2090.32|        3|   TX|Bachelors degree|        0|      false|\n",
      "|1009544000|  F| 44|        2|     90298|3849843|       1|    0|726977.0|    0.950685|    347|   2095.04|        2|   CA|Bachelors degree|        0|      false|\n",
      "|1009534260|  F| 23|        2|     94881|3217364|       1|    1|579084.0|    0.920548|    336|   1723.46|        5|   CA|Bachelors degree|        0|       true|\n",
      "|1009574010|  F| 24|        2|    112099|2438218|       4|    1|470964.0|    0.994521|    363| 1297.4199|        2|   WA|Bachelors degree|        0|       true|\n",
      "|1009578620|  F| 67|        5|     84638|2428245|       3|    0|446615.0|    0.917808|    335| 1333.1799|        3|   CT|       Doctorate|        0|      false|\n",
      "+----------+---+---+---------+----------+-------+--------+-----+--------+------------+-------+----------+---------+-----+----------------+---------+-----------+\n",
      "only showing top 5 rows\n",
      "\n"
     ]
    }
   ],
   "source": [
    "\n",
    "// This function is used to setup the access of Spark to your Object Storage. The definition contains your credentials.\n",
    "// You might want to remove those credentials before you share your notebook.\n",
    "def setHadoopConfig64e9c4bd3e4148978db0a312dfcc0a93(name: String) = {\n",
    "    // This function sets the Hadoop configuration so it is possible to\n",
    "    // access data from Bluemix Object Storage using Spark\n",
    "\n",
    "    val prefix = \"fs.swift.service.\" + name\n",
    "    sc.hadoopConfiguration.set(prefix + \".auth.url\", \"https://identity.open.softlayer.com\" + \"/v3/auth/tokens\")\n",
    "    sc.hadoopConfiguration.set(prefix + \".auth.endpoint.prefix\",\"endpoints\")\n",
    "    sc.hadoopConfiguration.set(prefix + \".tenant\", \"419cd8dece644c82af5a615b62af38e1\")\n",
    "    sc.hadoopConfiguration.set(prefix + \".username\", \"61e622a296924b9f8f5ddd0bd74f96b6\")\n",
    "    sc.hadoopConfiguration.set(prefix + \".password\", \"w0C9Eh4)Ssel~ihb\")\n",
    "    sc.hadoopConfiguration.setInt(prefix + \".http.port\", 8080)\n",
    "    sc.hadoopConfiguration.set(prefix + \".region\", \"dallas\")\n",
    "    sc.hadoopConfiguration.setBoolean(prefix + \".public\", false)\n",
    "}\n",
    "\n",
    "// you can choose any name\n",
    "val name = \"keystone\"\n",
    "setHadoopConfig64e9c4bd3e4148978db0a312dfcc0a93(name)\n",
    "\n",
    "val sqlContext = new org.apache.spark.sql.SQLContext(sc)\n",
    "\n",
    "val dfData1 = sqlContext.\n",
    "    read.format(\"com.databricks.spark.csv\").\n",
    "    option(\"header\", \"true\").\n",
    "    option(\"inferSchema\", \"true\").\n",
    "    load(\"swift://ChurnModelTraing.\" + name + \"/CUST_SUM.csv\")\n",
    "dfData1.show(5)\n"
   ]
  },
  {
   "cell_type": "code",
   "execution_count": 3,
   "metadata": {
    "collapsed": false
   },
   "outputs": [
    {
     "name": "stdout",
     "output_type": "stream",
     "text": [
      "(The number of training data is ,4837)\n",
      "(The number of test data is ,1164)\n"
     ]
    }
   ],
   "source": [
    "val Array(training, test) = dfData1.randomSplit(Array(0.8, 0.2), seed = 11L)\n",
    "println(\"The number of training data is \",training.count())\n",
    "println(\"The number of test data is \",test.count())"
   ]
  },
  {
   "cell_type": "code",
   "execution_count": 4,
   "metadata": {
    "collapsed": false
   },
   "outputs": [],
   "source": [
    "//Feature definition\n",
    "val genderIndexer = new StringIndexer().setInputCol(\"SEX\").setOutputCol(\"gender_code\")\n",
    "val stateIndexer = new StringIndexer().setInputCol(\"STATE\").setOutputCol(\"state_code\")\n",
    "val labelIndexer = new StringIndexer().setInputCol(\"CHURN\").setOutputCol(\"label\")\n",
    "\n",
    "val featuresAssembler = new VectorAssembler().setInputCols(Array(\"AGE\", \n",
    "                                                         \"ACTIVITY\", \n",
    "                                                         \"EDUCATION\", \n",
    "                                                         \"NEGTWEETS\" ,\n",
    "                                                         \"INCOME\",\n",
    "                                                         \"gender_code\",\n",
    "                                                         \"state_code\")).setOutputCol(\"features\")"
   ]
  },
  {
   "cell_type": "code",
   "execution_count": 5,
   "metadata": {
    "collapsed": true
   },
   "outputs": [],
   "source": [
    "//Select model automatically in candidate algorithm - Logistic Regression, SVM or Decision Tree?\n",
    "val lr = new LogisticRegression().setRegParam(0.01).setLabelCol(\"label\").setFeaturesCol(\"features\")\n",
    "val pipeline =new Pipeline().setStages(Array(labelIndexer, genderIndexer, stateIndexer, featuresAssembler,lr))\n",
    "val auc_eval = new BinaryClassificationEvaluator()\n",
    "val grid = new ParamGridBuilder().addGrid(lr.regParam, Array(1e-3, 1e-2)).addGrid(lr.elasticNetParam,Array(0.25, 0.0)).build()\n",
    "val cross_val = new CrossValidator().setEstimator(pipeline).setEvaluator(auc_eval).setEstimatorParamMaps(grid).setNumFolds(3)"
   ]
  },
  {
   "cell_type": "code",
   "execution_count": 6,
   "metadata": {
    "collapsed": false
   },
   "outputs": [],
   "source": [
    "val pipeline_model = cross_val.fit(training)\n",
    "val trainResult=pipeline_model.transform(test)"
   ]
  },
  {
   "cell_type": "markdown",
   "metadata": {},
   "source": [
    "# Evaluate the trained model and draw the ROC curve"
   ]
  },
  {
   "cell_type": "code",
   "execution_count": 7,
   "metadata": {
    "collapsed": false
   },
   "outputs": [],
   "source": [
    "import org.apache.spark.mllib.evaluation.BinaryClassificationMetrics\n",
    "val testingResultScores = trainResult.select(\"prediction\",\"label\").rdd.map(r => (r(0).asInstanceOf[Double], r(1) .asInstanceOf[Double]))\n",
    "val bc = new BinaryClassificationMetrics(testingResultScores)\n",
    "val roc = bc.roc "
   ]
  },
  {
   "cell_type": "code",
   "execution_count": 8,
   "metadata": {
    "collapsed": false
   },
   "outputs": [
    {
     "name": "stdout",
     "output_type": "stream",
     "text": [
      "+--------------------+-----------------+\n",
      "|                 FPR|              TPR|\n",
      "+--------------------+-----------------+\n",
      "|                 0.0|              0.0|\n",
      "|0.004640371229698376|0.956953642384106|\n",
      "|                 1.0|              1.0|\n",
      "|                 1.0|              1.0|\n",
      "+--------------------+-----------------+\n",
      "\n"
     ]
    }
   ],
   "source": [
    "val rocDF = sqlContext.createDataFrame(roc).\n",
    "                    withColumnRenamed(\"_1\", \"FPR\").\n",
    "                    withColumnRenamed(\"_2\", \"TPR\")\n",
    "rocDF.show()"
   ]
  },
  {
   "cell_type": "code",
   "execution_count": 9,
   "metadata": {
    "collapsed": false
   },
   "outputs": [
    {
     "name": "stdout",
     "output_type": "stream",
     "text": [
      "Starting download from https://brunelvis.org/jar/spark-kernel-brunel-all-2.3.jar\n",
      "Finished download of spark-kernel-brunel-all-2.3.jar\n"
     ]
    }
   ],
   "source": [
    "%AddJar -magic https://brunelvis.org/jar/spark-kernel-brunel-all-2.3.jar -f"
   ]
  },
  {
   "cell_type": "code",
   "execution_count": 10,
   "metadata": {
    "collapsed": false
   },
   "outputs": [
    {
     "data": {
      "text/html": [
       "\n",
       "         <link rel=\"stylesheet\" type=\"text/css\" href=\"http://www.brunelvis.org/js/brunel.1.1.css\" charset=\"utf-8\">\n",
       "         <link rel=\"stylesheet\" type=\"text/css\" href=\"http://www.brunelvis.org/js/sumoselect.css\" charset=\"utf-8\">\n",
       "         <style>  </style>\n",
       "         <div id=\"controlsId70d6ca39-b2a2-437d-bac8-c1ca9e0b5c6e\" class=\"brunel\"/>\n",
       "<svg id=\"visidfe4d9591-34e0-4c1b-ba67-071d8eaacc5c\" width=\"500\" height=\"400\"></svg>\n",
       "\n",
       "<script>\n",
       "require.config({\n",
       "            waitSeconds: 60,\n",
       "            paths: {\n",
       "                'd3': '//cdnjs.cloudflare.com/ajax/libs/d3/3.5.5/d3.min',\n",
       "                'brunel' : 'http://www.brunelvis.org/js/brunel.1.1.min',\n",
       "                'brunelControls' : 'http://www.brunelvis.org/js/brunel.controls.1.1.min'\n",
       "            },\n",
       "\n",
       "            shim: {\n",
       "               'brunel' : {\n",
       "                    exports: 'BrunelD3',\n",
       "                    init: function() {\n",
       "                       return {\n",
       "                         BrunelD3 : BrunelD3,\n",
       "                         BrunelData : BrunelData\n",
       "                      }\n",
       "                    }\n",
       "                },\n",
       "               'brunelControls' : {\n",
       "                    exports: 'BrunelEventHandlers',\n",
       "                    init: function() {\n",
       "                       return {\n",
       "                         BrunelEventHandlers: BrunelEventHandlers,\n",
       "                         BrunelJQueryControlFactory: BrunelJQueryControlFactory\n",
       "                      }\n",
       "                    }\n",
       "                }\n",
       "\n",
       "            }\n",
       "\n",
       "        });\n",
       "\n",
       "        require([\"d3\"], function(d3) {\n",
       "        require([\"brunel\", \"brunelControls\"], function(brunel, brunelControls) {\n",
       "\n",
       "            function  BrunelVis(visId) {\n",
       "  \"use strict\"; // Strict Mode\n",
       "  var datasets = [],                               // Array of datasets for the original data\n",
       "      pre = function(d, i) { return d },           // Default pre-process does nothing\n",
       "      post = function(d, i) { return d },          // Default post-process does nothing\n",
       "      transitionTime = 200,                        // Transition time for animations\n",
       "      charts = [],                                 // The charts in the system\n",
       "      vis = d3.select('#' + visId).attr('class', 'brunel');  // the SVG container\n",
       "\n",
       "  // Define chart #1 in the visualization //////////////////////////////////////////////////////////\n",
       "\n",
       "  charts[0] = function(parentNode, filterRows) {\n",
       "    var geom = BrunelD3.geometry(parentNode || vis.node(), 0, 0, 1, 1, 5, 45, 36, 12),\n",
       "      elements = [];                               // Array of elements in this chart\n",
       "\n",
       "    // Define groups for the chart parts ///////////////////////////////////////////////////////////\n",
       "\n",
       "    var chart = vis.append('g').attr('class', 'chart1')\n",
       "      .attr('transform','translate(' + geom.chart_left + ',' + geom.chart_top + ')');\n",
       "    chart.append('rect').attr('class', 'background').attr('width', geom.chart_right-geom.chart_left).attr('height', geom.chart_bottom-geom.chart_top);\n",
       "    var interior = chart.append('g').attr('class', 'interior')\n",
       "      .attr('transform','translate(' + geom.inner_left + ',' + geom.inner_top + ')')\n",
       "      .attr('clip-path', 'url(#clip_visidfe4d9591-34e0-4c1b-ba67-071d8eaacc5c_1)');\n",
       "    interior.append('rect').attr('class', 'inner').attr('width', geom.inner_width).attr('height', geom.inner_height);\n",
       "    var overlay = interior.append('g').attr('class', 'element')\n",
       "      .attr('class', 'overlay').style('cursor','move').style('fill','none').style('pointer-events','all');\n",
       "    var zoom = d3.behavior.zoom().on('zoom', function() {build(-1)} );\n",
       "    overlay.append('rect').attr('class', 'overlay')\n",
       "      .attr('width', geom.inner_width)\n",
       "      .attr('height', geom.inner_height)\n",
       "      .call(zoom);\n",
       "    var axes = chart.append('g').attr('class', 'axis')\n",
       "      .attr('transform','translate(' + geom.inner_left + ',' + geom.inner_top + ')');\n",
       "    vis.append('clipPath').attr('id', 'clip_visidfe4d9591-34e0-4c1b-ba67-071d8eaacc5c_1').append('rect')\n",
       "      .attr('x', -1).attr('y', -1)\n",
       "      .attr('width', geom.inner_width+2).attr('height', geom.inner_height+2);\n",
       "\n",
       "    // Scales //////////////////////////////////////////////////////////////////////////////////////\n",
       "\n",
       "    var scale_x = d3.scale.linear()\n",
       "      .domain([0, 1])\n",
       "      .range([0, geom.inner_width]);\n",
       "    var scale_inner = d3.scale.linear().domain([0,1])\n",
       "      .range([-0.5, 0.5]);\n",
       "    var scale_y = d3.scale.linear()\n",
       "      .domain([0, 1])\n",
       "      .range([geom.inner_height,0]);\n",
       "    zoom.x(scale_x).y(scale_y);\n",
       "\n",
       "    // Axes ////////////////////////////////////////////////////////////////////////////////////////\n",
       "\n",
       "    axes.append('g').attr('class', 'x axis')\n",
       "      .attr('transform','translate(0,' + geom.inner_height + ')');\n",
       "    axes.select('g.axis.x').append('text').attr('class', 'title')\n",
       "      .attr('text-anchor', 'middle')\n",
       "      .attr('x', geom.inner_width/2)\n",
       "      .attr('y', geom.inner_bottom - 6)\n",
       "      .text('False Positive Rate');\n",
       "    axes.append('g').attr('class', 'y axis')\n",
       "      .attr('transform','translate(geom.chart_left, 0)');\n",
       "    axes.select('g.axis.y').append('text').attr('class', 'title')\n",
       "      .attr('text-anchor', 'middle')\n",
       "      .attr('x', -geom.inner_height/2)\n",
       "      .attr('y', 6-geom.inner_left).attr('dy', '0.7em').attr('transform', 'rotate(270)')\n",
       "      .text('True Positive Rate');\n",
       "\n",
       "    var axis_bottom = d3.svg.axis()\n",
       "      .scale(scale_x).innerTickSize(3).outerTickSize(0)\n",
       "      .ticks(Math.min(10, Math.round(geom.inner_width / 28.5)));\n",
       "    var axis_left = d3.svg.axis().orient('left')\n",
       "      .scale(scale_y).innerTickSize(3).outerTickSize(0);\n",
       "\n",
       "    function buildAxes() {\n",
       "      axes.select('g.axis.x').call(axis_bottom);\n",
       "      axes.select('g.axis.y').call(axis_left);\n",
       "    }\n",
       "\n",
       "    // Define element #1 ///////////////////////////////////////////////////////////////////////////\n",
       "\n",
       "    elements[0] = function() {\n",
       "      var original, processed,           // data sets passed in and then transformed\n",
       "        element, data,                   // Brunel element information and brunel data\n",
       "        selection;                       // D3 selection\n",
       "      var elementGroup = interior.append('g').attr('class', 'element1'),\n",
       "        main = elementGroup.append('g').attr('class', 'main'),\n",
       "        labels = BrunelD3.undoTransform(elementGroup.append('g').attr('class', 'labels'), elementGroup);\n",
       "\n",
       "      function makeData() {\n",
       "        original = datasets[0];\n",
       "        if (filterRows) original = original.retainRows(filterRows);\n",
       "        processed = pre(original, 0)\n",
       "          .sortRows('FPR:ascending');\n",
       "        processed = post(processed, 0);\n",
       "        var f0 = processed.field('FPR'),\n",
       "          f1 = processed.field('TPR'),\n",
       "          f2 = processed.field('#row');\n",
       "        var keyFunc = function(d) { return 'ALL' };\n",
       "        data = {\n",
       "          FPR:          function(d) { return f0.value(d.row) },\n",
       "          TPR:          function(d) { return f1.value(d.row) },\n",
       "          $row:         function(d) { return f2.value(d.row) },\n",
       "          FPR_f:        function(d) { return f0.valueFormatted(d.row) },\n",
       "          TPR_f:        function(d) { return f1.valueFormatted(d.row) },\n",
       "          $row_f:       function(d) { return f2.valueFormatted(d.row) },\n",
       "          _split:       function(d) { return 'ALL' },\n",
       "          _key:         keyFunc,\n",
       "          _rows:        BrunelD3.makeRowsWithKeys(keyFunc, processed.rowCount())\n",
       "        };\n",
       "      }\n",
       "\n",
       "      // Build element from data ///////////////////////////////////////////////////////////////////\n",
       "\n",
       "      function build(transitionMillis) {\n",
       "        element = elements[0];\n",
       "        var x = function(d) { return scale_x(data.FPR(d))};\n",
       "        var w = geom.default_point_size;\n",
       "        var y = function(d) { return scale_y(data.TPR(d))};\n",
       "        var h = function(d) { return Math.abs( scale_y(0.04304635761589404) - scale_y(0) )};\n",
       "        var path = d3.svg.line().x(x).y(y);\n",
       "        var splits = BrunelD3.makePathSplits(data, path, x);\n",
       "        selection = main.selectAll('*').data(splits, function(d) { return d.key});\n",
       "        selection.enter().append('path').attr('class',  'element line');\n",
       "\n",
       "        BrunelD3.trans(selection,transitionMillis)\n",
       "          .attr('d', function(d) { return d.path });\n",
       "\n",
       "        var tooltipLabeling = {\n",
       "          method: 'path', \n",
       "          fit: true,\n",
       "          path: path,\n",
       "          content: function(d) {\n",
       "            return d.row == null ? null : '<span class=\"title\">FPR: </span>'\n",
       "\t\t\t+ '<span class=\"field\">' + data.FPR_f(d) + '</span>'\n",
       "\t\t\t+ '<br/>'\n",
       "\t\t\t+ '<span class=\"title\">TPR: </span>'\n",
       "\t\t\t+ '<span class=\"field\">' + data.TPR_f(d) + '</span>'\n",
       "          }\n",
       "        };\n",
       "        BrunelD3.addTooltip(selection, tooltipLabeling, geom);\n",
       "\n",
       "        BrunelD3.trans(selection.exit(),transitionMillis/3)\n",
       "          .style('opacity', 0.5).each( function() {this.remove(); if (this.__label__) this.__label__.remove()});\n",
       "      }\n",
       "\n",
       "      return {\n",
       "        data:           function() { return processed },\n",
       "        internal:       function() { return data },\n",
       "        selection:      function() { return selection },\n",
       "        makeData:       makeData,\n",
       "        build:          build,\n",
       "        fields: {\n",
       "          x:            ['FPR'],\n",
       "          y:            ['TPR']\n",
       "        }\n",
       "      };\n",
       "    }();\n",
       "\n",
       "    function build(time) {\n",
       "      var first = elements[0].data() == null;\n",
       "      if (first) time = 0; // No transition for first call\n",
       "      buildAxes(); \n",
       "      if (first || time>0) elements[0].makeData();\n",
       "      elements[0].build(time);\n",
       "    }\n",
       "\n",
       "    // Expose the following components of the chart\n",
       "    return { build : build, elements : elements };\n",
       "    }();\n",
       "\n",
       "  function setData(rowData, i) { datasets[i||0] = BrunelD3.makeData(rowData) }\n",
       "  function updateAll(time) { charts.forEach(function(x) {x.build(time || 20)}) }\n",
       "  function buildAll() {\n",
       "    for (var i=0;i<arguments.length;i++) setData(arguments[i], i);\n",
       "    updateAll(transitionTime);\n",
       "  }\n",
       "\n",
       "  return {\n",
       "    dataPreProcess:     function(f) { if (f) pre = f; return pre },\n",
       "    dataPostProcess:    function(f) { if (f) post = f; return post },\n",
       "    data:               function(d,i) { if (d) setData(d,i); return datasets[i||0] },\n",
       "    visId:              visId,\n",
       "    build:              buildAll,\n",
       "    rebuild:            updateAll,\n",
       "    charts:             charts\n",
       "  }\n",
       "}\n",
       "\n",
       "// Data Tables /////////////////////////////////////////////////////////////////////////////////////\n",
       "\n",
       "var table1 = {\n",
       "   names: ['FPR', 'TPR'], \n",
       "   options: ['numeric', 'numeric'], \n",
       "   rows: [[0, 0], [0.00464037, 0.95695364], [1, 1], [1, 1]]\n",
       "};\n",
       "\n",
       "// Call Code to Build the system ///////////////////////////////////////////////////////////////////\n",
       "\n",
       "var v = new BrunelVis('visidfe4d9591-34e0-4c1b-ba67-071d8eaacc5c');\n",
       "v.build(table1);\n",
       "\n",
       "            \"\"\n",
       "        });\n",
       "        });\n",
       "        </script>"
      ]
     },
     "execution_count": 10,
     "metadata": {},
     "output_type": "execute_result"
    }
   ],
   "source": [
    "%%brunel data('rocDF') x(FPR) y(TPR) line tooltip(#all) axes(x:'False Positive Rate':grid, y:'True Positive Rate':grid)  "
   ]
  },
  {
   "cell_type": "code",
   "execution_count": 11,
   "metadata": {
    "collapsed": false
   },
   "outputs": [
    {
     "name": "stdout",
     "output_type": "stream",
     "text": [
      "+---+--------+---------+---------+------+---+-----+\n",
      "|AGE|ACTIVITY|EDUCATION|NEGTWEETS|INCOME|SEX|STATE|\n",
      "+---+--------+---------+---------+------+---+-----+\n",
      "| 40|       1|        3|        4|200000|  M|   TX|\n",
      "| 40|       1|        3|        8|200000|  M|   OR|\n",
      "+---+--------+---------+---------+------+---+-----+\n",
      "\n",
      "+---+--------+---------+---------+------+---+-----+-----------+----------+--------------------+--------------------+--------------------+----------+\n",
      "|AGE|ACTIVITY|EDUCATION|NEGTWEETS|INCOME|SEX|STATE|gender_code|state_code|            features|       rawPrediction|         probability|prediction|\n",
      "+---+--------+---------+---------+------+---+-----+-----------+----------+--------------------+--------------------+--------------------+----------+\n",
      "| 40|       1|        3|        4|200000|  M|   TX|        0.0|      12.0|[40.0,1.0,3.0,4.0...|[2.15500232950555...|[0.89613530131090...|       0.0|\n",
      "| 40|       1|        3|        8|200000|  M|   OR|        0.0|       5.0|[40.0,1.0,3.0,8.0...|[-3.6096865125453...|[0.02634736038044...|       1.0|\n",
      "+---+--------+---------+---------+------+---+-----+-----------+----------+--------------------+--------------------+--------------------+----------+\n",
      "\n"
     ]
    }
   ],
   "source": [
    "case class Person(AGE:Int,ACTIVITY:Int,EDUCATION:Int,NEGTWEETS:Int,INCOME:Int,SEX:String,STATE:String)\n",
    "val dataFrame=Seq(Person(40,1,3,4,200000,\"M\",\"TX\"),Person(40,1,3,8,200000,\"M\",\"OR\"))\n",
    "val df = sqlContext.createDataFrame(dataFrame)\n",
    "df.show()\n",
    "pipeline_model.transform(df).show()"
   ]
  }
 ],
 "metadata": {
  "kernelspec": {
   "display_name": "Scala 2.10 with Spark 1.6",
   "language": "scala",
   "name": "scala"
  },
  "language_info": {
   "name": "scala"
  }
 },
 "nbformat": 4,
 "nbformat_minor": 0
}